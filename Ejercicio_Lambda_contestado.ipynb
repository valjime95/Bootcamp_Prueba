{
  "cells": [
    {
      "cell_type": "markdown",
      "metadata": {
        "id": "SsC8XMl8_THX"
      },
      "source": [
        "# Uso de expresiones lambda en listas por comprensión\n",
        "\n",
        "En el siguiente desafío, combinaremos dos listas utilizando una expresión lambda en una lista por comprensión.\n",
        "\n",
        "Para ello, necesitaremos introducir la función `zip`. La función `zip` devuelve un iterador de tuplas.\n",
        "\n",
        "A continuación se muestra cómo funciona la función zip con listas:"
      ]
    },
    {
      "cell_type": "code",
      "execution_count": 1,
      "metadata": {
        "id": "a7CbJwzq_THY",
        "outputId": "058c210c-2192-4876-ce7f-654744a222e0",
        "colab": {
          "base_uri": "https://localhost:8080/"
        }
      },
      "outputs": [
        {
          "output_type": "execute_result",
          "data": {
            "text/plain": [
              "[('Green', 'eggs'),\n",
              " ('cheese', 'cheese'),\n",
              " ('English', 'cucumber'),\n",
              " ('tomato', 'tomato')]"
            ]
          },
          "metadata": {},
          "execution_count": 1
        }
      ],
      "source": [
        "list1 = ['Green', 'cheese', 'English', 'tomato']\n",
        "list2 = ['eggs', 'cheese', 'cucumber', 'tomato']\n",
        "zipped = zip(list1,list2)\n",
        "list(zipped)"
      ]
    },
    {
      "cell_type": "markdown",
      "metadata": {
        "id": "-gdNR-6i_THZ"
      },
      "source": [
        "En este ejercicio intentaremos comparar los elementos del mismo índice en las dos listas.\n",
        "Queremos comprimir las dos listas y luego usar una expresión lambda para comparar si:\n",
        "elemento de la lista1 > elemento de la lista2. --> True"
      ]
    },
    {
      "cell_type": "code",
      "execution_count": 16,
      "metadata": {
        "id": "s9ROl70u_THZ",
        "colab": {
          "base_uri": "https://localhost:8080/"
        },
        "outputId": "d66803e1-9262-4e5e-e956-f3b4995a9527"
      },
      "outputs": [
        {
          "output_type": "execute_result",
          "data": {
            "text/plain": [
              "[(1, 2), (2, 3), (3, 4), (10, 5)]"
            ]
          },
          "metadata": {},
          "execution_count": 16
        }
      ],
      "source": [
        "list1 = [1,2,3,10]\n",
        "list2 = [2,3,4,5]\n",
        "zipped = zip(list1,list2)\n",
        "## Comprimir las listas juntas\n",
        "## Imprimir la lista comprimida\n"
      ]
    },
    {
      "cell_type": "code",
      "source": [
        "salida = [False, False, False, True]"
      ],
      "metadata": {
        "id": "6sHrHmtwItWl"
      },
      "execution_count": null,
      "outputs": []
    },
    {
      "cell_type": "code",
      "source": [
        "comparacion = lambda x,y: True if (x>y) else False\n",
        "\n",
        "[comparacion(x,y) for x,y in zip(list1,list2)]"
      ],
      "metadata": {
        "colab": {
          "base_uri": "https://localhost:8080/"
        },
        "id": "PmA5-GQLU0bK",
        "outputId": "51e16b82-1176-4455-a48a-27ee1b36f2c2"
      },
      "execution_count": 28,
      "outputs": [
        {
          "output_type": "execute_result",
          "data": {
            "text/plain": [
              "[False, False, False, True]"
            ]
          },
          "metadata": {},
          "execution_count": 28
        }
      ]
    },
    {
      "cell_type": "code",
      "source": [
        "lista_vacia = []\n",
        "\n",
        "compare = lambda x,y: True if (x>y) else False\n",
        "\n",
        "for i,j in zip(list1,list2):\n",
        "  lista_vacia.append(comparacion(i,j))\n",
        "\n",
        "lista_vacia"
      ],
      "metadata": {
        "colab": {
          "base_uri": "https://localhost:8080/"
        },
        "id": "0l-Ljc5mVJeE",
        "outputId": "dca9c9ca-5263-4bc9-cf83-ce943217ceb8"
      },
      "execution_count": 30,
      "outputs": [
        {
          "output_type": "execute_result",
          "data": {
            "text/plain": [
              "[False, False, False, True]"
            ]
          },
          "metadata": {},
          "execution_count": 30
        }
      ]
    },
    {
      "cell_type": "code",
      "source": [
        "# paso 1: crear la funcion de comparacion\n",
        "compare = lambda num1, num2: True if (num1 > num2) else False"
      ],
      "metadata": {
        "id": "NAlAEdebVk6Z"
      },
      "execution_count": null,
      "outputs": []
    },
    {
      "cell_type": "code",
      "source": [
        "list1 = [1,2,3,10]\n",
        "list2 = [2,3,4,5]\n",
        "\n",
        "list(zip(list1,list2))"
      ],
      "metadata": {
        "colab": {
          "base_uri": "https://localhost:8080/"
        },
        "id": "YfqFonygWNCl",
        "outputId": "6f00d063-c758-4978-a62e-7287f86eabbf"
      },
      "execution_count": 31,
      "outputs": [
        {
          "output_type": "execute_result",
          "data": {
            "text/plain": [
              "[(1, 2), (2, 3), (3, 4), (10, 5)]"
            ]
          },
          "metadata": {},
          "execution_count": 31
        }
      ]
    },
    {
      "cell_type": "code",
      "source": [
        "lista_vacia = []\n",
        "\n",
        "for num1,num2 in zip(list1,list2):\n",
        "  lista_vacia.append(compare(num1,num2))\n",
        "\n",
        "lista_vacia"
      ],
      "metadata": {
        "colab": {
          "base_uri": "https://localhost:8080/"
        },
        "id": "RTrPyC-TWWhM",
        "outputId": "3b4f97e0-351c-4d65-d44b-d120ba09848a"
      },
      "execution_count": 36,
      "outputs": [
        {
          "output_type": "execute_result",
          "data": {
            "text/plain": [
              "[False, False, False, True]"
            ]
          },
          "metadata": {},
          "execution_count": 36
        }
      ]
    },
    {
      "cell_type": "code",
      "source": [
        "print([compare(num1,num2) for num1,num2 in zip(list1,list2)])"
      ],
      "metadata": {
        "colab": {
          "base_uri": "https://localhost:8080/"
        },
        "id": "FYxBWL6wW_z6",
        "outputId": "f7baea91-f9df-4ba2-a2de-0a52d1f2c341"
      },
      "execution_count": 38,
      "outputs": [
        {
          "output_type": "stream",
          "name": "stdout",
          "text": [
            "[False, False, False, True]\n"
          ]
        }
      ]
    },
    {
      "cell_type": "code",
      "source": [
        "ejercicios = [compare(num1,num2) for num1,num2 in zip(list1,list2)]"
      ],
      "metadata": {
        "id": "HZucWGGPYE6X"
      },
      "execution_count": null,
      "outputs": []
    },
    {
      "cell_type": "code",
      "source": [],
      "metadata": {
        "id": "flIhmApuYUZj"
      },
      "execution_count": null,
      "outputs": []
    },
    {
      "cell_type": "code",
      "execution_count": null,
      "metadata": {
        "id": "UPQMwKDa_THZ",
        "outputId": "d736023c-7525-4b14-f682-8d9d336d9fb2"
      },
      "outputs": [
        {
          "data": {
            "text/plain": [
              "'\\n\\ncompare = lambda ###: print(\"True\") if ### else print(\"False\")\\nfor ### in zip(list1,list2):\\n    compare(###)\\n    \\n'"
            ]
          },
          "execution_count": 4,
          "metadata": {},
          "output_type": "execute_result"
        }
      ],
      "source": [
        "'''\n",
        "\n",
        "compare = lambda ###: print(\"True\") if ### else print(\"False\")\n",
        "for ### in zip(list1,list2):\n",
        "    compare(###)\n",
        "\n",
        "'''"
      ]
    }
  ],
  "metadata": {
    "kernelspec": {
      "display_name": "Python 3",
      "language": "python",
      "name": "python3"
    },
    "language_info": {
      "codemirror_mode": {
        "name": "ipython",
        "version": 3
      },
      "file_extension": ".py",
      "mimetype": "text/x-python",
      "name": "python",
      "nbconvert_exporter": "python",
      "pygments_lexer": "ipython3",
      "version": "3.7.3"
    },
    "colab": {
      "provenance": []
    }
  },
  "nbformat": 4,
  "nbformat_minor": 0
}