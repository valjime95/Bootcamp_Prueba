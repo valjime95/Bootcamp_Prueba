{
  "cells": [
    {
      "cell_type": "markdown",
      "metadata": {
        "id": "SsC8XMl8_THX"
      },
      "source": [
        "# Uso de expresiones lambda en listas por comprensión\n",
        "\n",
        "En el siguiente desafío, combinaremos dos listas utilizando una expresión lambda en una lista por comprensión.\n",
        "\n",
        "Para ello, necesitaremos introducir la función `zip`. La función `zip` devuelve un iterador de tuplas.\n",
        "\n",
        "A continuación se muestra cómo funciona la función zip con listas:"
      ]
    },
    {
      "cell_type": "code",
      "execution_count": null,
      "metadata": {
        "id": "a7CbJwzq_THY",
        "outputId": "79de5a80-b336-4225-d855-0947275df420"
      },
      "outputs": [
        {
          "data": {
            "text/plain": [
              "[('Green', 'eggs'),\n",
              " ('cheese', 'cheese'),\n",
              " ('English', 'cucumber'),\n",
              " ('tomato', 'tomato')]"
            ]
          },
          "execution_count": 1,
          "metadata": {},
          "output_type": "execute_result"
        }
      ],
      "source": [
        "list1 = ['Green', 'cheese', 'English', 'tomato']\n",
        "list2 = ['eggs', 'cheese', 'cucumber', 'tomato']\n",
        "zipped = zip(list1,list2)\n",
        "list(zipped)"
      ]
    },
    {
      "cell_type": "markdown",
      "metadata": {
        "id": "-gdNR-6i_THZ"
      },
      "source": [
        "En este ejercicio intentaremos comparar los elementos del mismo índice en las dos listas.\n",
        "Queremos comprimir las dos listas y luego usar una expresión lambda para comparar si:\n",
        "elemento de la lista1 > elemento de la lista2"
      ]
    },
    {
      "cell_type": "code",
      "execution_count": null,
      "metadata": {
        "id": "s9ROl70u_THZ"
      },
      "outputs": [],
      "source": [
        "list1 = [1,2,3,4]\n",
        "list2 = [2,3,4,5]\n",
        "## Zip the lists together\n",
        "## Print the zipped list"
      ]
    },
    {
      "cell_type": "code",
      "execution_count": null,
      "metadata": {
        "id": "UPQMwKDa_THZ",
        "outputId": "d736023c-7525-4b14-f682-8d9d336d9fb2"
      },
      "outputs": [
        {
          "data": {
            "text/plain": [
              "'\\n\\ncompare = lambda ###: print(\"True\") if ### else print(\"False\")\\nfor ### in zip(list1,list2):\\n    compare(###)\\n    \\n'"
            ]
          },
          "execution_count": 4,
          "metadata": {},
          "output_type": "execute_result"
        }
      ],
      "source": [
        "'''\n",
        "\n",
        "compare = lambda ###: print(\"True\") if ### else print(\"False\")\n",
        "for ### in zip(list1,list2):\n",
        "    compare(###)\n",
        "\n",
        "'''"
      ]
    }
  ],
  "metadata": {
    "kernelspec": {
      "display_name": "Python 3",
      "language": "python",
      "name": "python3"
    },
    "language_info": {
      "codemirror_mode": {
        "name": "ipython",
        "version": 3
      },
      "file_extension": ".py",
      "mimetype": "text/x-python",
      "name": "python",
      "nbconvert_exporter": "python",
      "pygments_lexer": "ipython3",
      "version": "3.7.3"
    },
    "colab": {
      "provenance": []
    }
  },
  "nbformat": 4,
  "nbformat_minor": 0
}